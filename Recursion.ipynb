{
 "cells": [
  {
   "cell_type": "markdown",
   "id": "f14c8186-ef15-4697-bbc9-0c1f5823c55c",
   "metadata": {},
   "source": [
    "### Recursion Assignment\n",
    "---"
   ]
  },
  {
   "cell_type": "markdown",
   "id": "304437f9-78a4-4056-844f-3811db8c869d",
   "metadata": {},
   "source": [
    "### Q.1 Can you explain the logic and working of the Tower of Hanoi algorithm by writing a Java program?\n",
    "How does the recursion work, and how are the movements of disks between rods accomplished?"
   ]
  },
  {
   "cell_type": "code",
   "execution_count": 17,
   "id": "e2b35c09-1926-450a-8670-7aeb55bc705d",
   "metadata": {},
   "outputs": [
    {
     "name": "stdout",
     "output_type": "stream",
     "text": [
      "Follow following steps:\n",
      "A --> C\n",
      "A --> B\n",
      "C --> B\n",
      "A --> C\n",
      "B --> A\n",
      "B --> C\n",
      "A --> C\n"
     ]
    }
   ],
   "source": [
    "def TowerofHanoi(n, sur, aux, dest):\n",
    "    if n == 1:\n",
    "        print(f\"{sur} --> {dest}\")\n",
    "    else:\n",
    "        TowerofHanoi(n-1, sur, dest, aux)\n",
    "        print(f\"{sur} --> {dest}\")\n",
    "        TowerofHanoi(n-1, aux, sur, dest)\n",
    "\n",
    "# Input\n",
    "print(\"Follow following steps:\")\n",
    "TowerofHanoi(3, \"A\", \"B\", \"C\")"
   ]
  },
  {
   "cell_type": "markdown",
   "id": "d0887555-2511-426e-9d4a-be715f506b27",
   "metadata": {},
   "source": [
    "### Q.2 Given two strings word1 and word2, return the minimum number of operations required to convert word1 to word2."
   ]
  },
  {
   "cell_type": "code",
   "execution_count": 28,
   "id": "a94e820a-de58-4b93-afb3-4a29f11ec3e5",
   "metadata": {},
   "outputs": [
    {
     "name": "stdout",
     "output_type": "stream",
     "text": [
      "Minimum number of operations: 3\n"
     ]
    }
   ],
   "source": [
    "def min_operation(word1, word2, m, n):\n",
    "    if m == 0:\n",
    "        return n\n",
    "    if n == 0:\n",
    "        return m\n",
    "    if word1[m-1] == word2[n-1]:\n",
    "        return min_operation(word1, word2, m-1, n-1)\n",
    "    else:\n",
    "        insert = min_operation(word1, word2, m, n-1)\n",
    "        remove = min_operation(word1, word2, m-1, n)\n",
    "        replace = min_operation(word1, word2, m-1, n-1)\n",
    "        return 1 + min(insert, remove, replace)\n",
    "    \n",
    "# Input\n",
    "word1 = \"horse\"\n",
    "word2 = \"ros\"\n",
    "print(\"Minimum number of operations:\",min_operation(word1, word2, len(word1), len(word2)))"
   ]
  },
  {
   "cell_type": "markdown",
   "id": "6c144bfe-9d4c-4706-b72d-33cecc4a34f2",
   "metadata": {},
   "source": [
    "### Q.3 Print the max value of the array [ 13, 1, -3, 22, 5]."
   ]
  },
  {
   "cell_type": "code",
   "execution_count": 13,
   "id": "9fc4d702-a3a2-4b76-9a24-bfcb191312b5",
   "metadata": {},
   "outputs": [
    {
     "name": "stdout",
     "output_type": "stream",
     "text": [
      "Maximum value of the given array:  22\n"
     ]
    }
   ],
   "source": [
    "# Time complexity: O(n)\n",
    "# Space complexity: O(1)\n",
    "\n",
    "# Take array\n",
    "arr = [ 13, 1, -3, 22, 5]\n",
    "\n",
    "# Create a function to find maximum value\n",
    "def array_max(arr, index):\n",
    "    if index >= len(arr):\n",
    "        return 0\n",
    "    max_ele = array_max(arr, index+1)\n",
    "    if max_ele > arr[index]:\n",
    "        return max_ele\n",
    "    else:\n",
    "        return arr[index]\n",
    "    \n",
    "# print maximum value of the array\n",
    "print(\"Maximum value of the given array: \", array_max(arr,0))"
   ]
  },
  {
   "cell_type": "markdown",
   "id": "2e6081aa-6e3e-41af-98a3-9546a5d6f6e1",
   "metadata": {},
   "source": [
    "### Q.4 Find the sum of the values of the array [92, 23, 15, -20, 10]."
   ]
  },
  {
   "cell_type": "code",
   "execution_count": 2,
   "id": "9d2eff6e-6ac4-43c3-a81b-c54fbd2aef41",
   "metadata": {},
   "outputs": [
    {
     "name": "stdout",
     "output_type": "stream",
     "text": [
      "Sum of the given array:  120\n"
     ]
    }
   ],
   "source": [
    "# Time complexity: O(n)\n",
    "# Space complexity: O(1)\n",
    "\n",
    "# Take array\n",
    "arr = [92, 23, 15, -20, 10]\n",
    "\n",
    "# Find sum of the array\n",
    "def array_sum(arr, index):\n",
    "    if index < 0 or index >= len(arr):\n",
    "        return 0\n",
    "    return arr[index] + array_sum(arr, index+1)\n",
    "\n",
    "# print maximum value of the array\n",
    "print(\"Sum of the given array: \", array_sum(arr,0))"
   ]
  },
  {
   "cell_type": "markdown",
   "id": "24b69f73-8e9e-4d70-805c-1a17432d519b",
   "metadata": {},
   "source": [
    "### Q.5 Given a number n. Print if it is an armstrong number or not.An armstrong number is a number if the sum of every digit in that number raised to the power of total digits in that number is equal to the number."
   ]
  },
  {
   "cell_type": "code",
   "execution_count": 14,
   "id": "0c879e44-eeef-4a25-a653-0d1b11223832",
   "metadata": {},
   "outputs": [
    {
     "name": "stdout",
     "output_type": "stream",
     "text": [
      "153 is armstrong number.\n"
     ]
    }
   ],
   "source": [
    "# Time complexity: O(log10(n))\n",
    "# Space complexity: O(1)\n",
    "\n",
    "# Take a number\n",
    "n = 153\n",
    "\n",
    "# Convert given number into string\n",
    "power = len(str(n))\n",
    "\n",
    "# create function to check whether the given number is armstrong or not\n",
    "def armstrong(n):\n",
    "    if n < 10:\n",
    "        return n\n",
    "    return (n%10)**power + armstrong(n//10)\n",
    "    \n",
    "# Print the result\n",
    "if n == armstrong(n):\n",
    "    print(f\"{n} is armstrong number.\")\n",
    "else:\n",
    "    print(f\"{n} is not armstrong number.\")"
   ]
  },
  {
   "cell_type": "code",
   "execution_count": null,
   "id": "2d35cf1a-7064-498a-8276-16b6cb97877e",
   "metadata": {},
   "outputs": [],
   "source": []
  }
 ],
 "metadata": {
  "kernelspec": {
   "display_name": "Python 3 (ipykernel)",
   "language": "python",
   "name": "python3"
  },
  "language_info": {
   "codemirror_mode": {
    "name": "ipython",
    "version": 3
   },
   "file_extension": ".py",
   "mimetype": "text/x-python",
   "name": "python",
   "nbconvert_exporter": "python",
   "pygments_lexer": "ipython3",
   "version": "3.10.8"
  }
 },
 "nbformat": 4,
 "nbformat_minor": 5
}
