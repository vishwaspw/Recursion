{
 "cells": [
  {
   "cell_type": "markdown",
   "id": "4efd85a6-f5fc-448d-8dda-2767c57ac1ca",
   "metadata": {},
   "source": [
    "### Recurssion Relation :\n",
    "---"
   ]
  },
  {
   "cell_type": "markdown",
   "id": "139fc9c4-60ae-46d7-bdd3-dcca3db84a0c",
   "metadata": {},
   "source": [
    "### 1. Find the value of T(2) for the recurrence relation T(n) = 3T(n-1) + 12n, given that T(0)=5."
   ]
  },
  {
   "cell_type": "code",
   "execution_count": 2,
   "id": "fdf0b855-fd31-4c80-8805-2ad1b8f9f96e",
   "metadata": {},
   "outputs": [
    {
     "data": {
      "text/plain": [
       "105"
      ]
     },
     "execution_count": 2,
     "metadata": {},
     "output_type": "execute_result"
    }
   ],
   "source": [
    "# Time complexity: O(3^n)\n",
    "# Space complexity: O(n)\n",
    "\n",
    "# Create function of recursion relation\n",
    "def recursion_solution(n) :\n",
    "    if n == 0:\n",
    "        return 5\n",
    "    return 3*recursion_solution(n-1) + 12*n\n",
    "\n",
    "# Print result\n",
    "recursion_solution(2)"
   ]
  },
  {
   "cell_type": "markdown",
   "id": "4557586d-bd6f-46ce-8269-65adaf3eac63",
   "metadata": {},
   "source": [
    "### 2. Given a recurrence relation, solve it using the substitution method:"
   ]
  },
  {
   "cell_type": "markdown",
   "id": "b8629eb7-c7cc-46a6-938b-8f7c0343f09d",
   "metadata": {},
   "source": [
    "### a. T(n) = T(n-1) + c"
   ]
  },
  {
   "cell_type": "code",
   "execution_count": 7,
   "id": "97b90f0d-4a71-4429-b938-0e9356d92d20",
   "metadata": {},
   "outputs": [
    {
     "data": {
      "text/plain": [
       "10"
      ]
     },
     "execution_count": 7,
     "metadata": {},
     "output_type": "execute_result"
    }
   ],
   "source": [
    "# Time complexity: O(n)\n",
    "# Space complexity: O(n)\n",
    "\n",
    "# Create function of recursion relation\n",
    "def recursion_solution(n, c) :\n",
    "    if n == 1:\n",
    "        return c\n",
    "    return recursion_solution(n-1, c) + c\n",
    "\n",
    "# Print result\n",
    "recursion_solution(5, 2)"
   ]
  },
  {
   "cell_type": "markdown",
   "id": "a8ccca34-8467-41a6-8bb9-1d57159d1ea4",
   "metadata": {},
   "source": [
    "### b. T(n) = 2T(n/2) + n"
   ]
  },
  {
   "cell_type": "code",
   "execution_count": 8,
   "id": "14f30640-58ec-4676-b68d-d154e705a579",
   "metadata": {},
   "outputs": [
    {
     "data": {
      "text/plain": [
       "12.0"
      ]
     },
     "execution_count": 8,
     "metadata": {},
     "output_type": "execute_result"
    }
   ],
   "source": [
    "# Time complexity: O(n log2(n))\n",
    "# Space complexity: O(log(n))\n",
    "\n",
    "# Create function of recursion relation\n",
    "def recursion_solution(n) :\n",
    "    if n == 1:\n",
    "        return 1\n",
    "    return 2*recursion_solution(n/2) + n\n",
    "\n",
    "# Print result\n",
    "recursion_solution(4)"
   ]
  },
  {
   "cell_type": "markdown",
   "id": "68034344-3ab7-4e95-96a6-ddc39834bb0c",
   "metadata": {},
   "source": [
    "### c. T(n) = 2T(n/2) + c"
   ]
  },
  {
   "cell_type": "code",
   "execution_count": 12,
   "id": "b5ffd7ff-90af-4ada-a541-b24924319e8f",
   "metadata": {},
   "outputs": [
    {
     "data": {
      "text/plain": [
       "7"
      ]
     },
     "execution_count": 12,
     "metadata": {},
     "output_type": "execute_result"
    }
   ],
   "source": [
    "# Time complexity: O(n)\n",
    "# Space complexity: O(log2(n))\n",
    "\n",
    "# Create function of recursion relation\n",
    "def recursion_solution(n, c) :\n",
    "    if n == 1:\n",
    "        return c\n",
    "    return 2*recursion_solution(n/2, c) + c\n",
    "\n",
    "# Print result\n",
    "recursion_solution(4, 1)"
   ]
  },
  {
   "cell_type": "markdown",
   "id": "d8269555-293d-4ef4-8ee9-597cac63053a",
   "metadata": {},
   "source": [
    "### d. T(n) = T(n/2) + c"
   ]
  },
  {
   "cell_type": "code",
   "execution_count": 15,
   "id": "be20ba60-e9da-4666-94f5-02ffe5bd3364",
   "metadata": {},
   "outputs": [
    {
     "data": {
      "text/plain": [
       "5"
      ]
     },
     "execution_count": 15,
     "metadata": {},
     "output_type": "execute_result"
    }
   ],
   "source": [
    "# Time complexity: O(log2(n))\n",
    "# Space complexity: O(log2(n))\n",
    "\n",
    "# Create function of recursion relation\n",
    "def recursion_solution(n, c) :\n",
    "    if n == 1:\n",
    "        return c\n",
    "    return recursion_solution(n/2, c) + c\n",
    "\n",
    "# Print result\n",
    "recursion_solution(16, 1)"
   ]
  },
  {
   "cell_type": "markdown",
   "id": "7aa8d247-6b1c-4b62-929f-f4e5cb865ec1",
   "metadata": {},
   "source": [
    "### 3. Given a recurrence relation, solve it using the recursive tree approach:"
   ]
  },
  {
   "cell_type": "markdown",
   "id": "1b3da27e-a09f-4163-bc93-6ded8d517c78",
   "metadata": {},
   "source": [
    "### a. T(n) = 2T(n-1) +1"
   ]
  },
  {
   "cell_type": "code",
   "execution_count": 18,
   "id": "734839ae-9ba1-4f94-a3ad-badbf767e73d",
   "metadata": {},
   "outputs": [
    {
     "data": {
      "text/plain": [
       "7"
      ]
     },
     "execution_count": 18,
     "metadata": {},
     "output_type": "execute_result"
    }
   ],
   "source": [
    "# Time complexity: O(2^n)\n",
    "# Space complexity: O(n)\n",
    "\n",
    "# Create function of recursion relation\n",
    "def recursion_solution(n) :\n",
    "    if n == 1:\n",
    "        return 1\n",
    "    return 2*recursion_solution(n-1) + 1\n",
    "\n",
    "# Print result\n",
    "recursion_solution(3)"
   ]
  },
  {
   "cell_type": "markdown",
   "id": "02099816-b2a2-41cb-9d4e-11f0a39ae562",
   "metadata": {},
   "source": [
    "### b. T(n) = 2T(n/2) + n"
   ]
  },
  {
   "cell_type": "code",
   "execution_count": 1,
   "id": "6669acec-4df5-4a2d-ba5b-e1f414700a7b",
   "metadata": {},
   "outputs": [
    {
     "data": {
      "text/plain": [
       "32.0"
      ]
     },
     "execution_count": 1,
     "metadata": {},
     "output_type": "execute_result"
    }
   ],
   "source": [
    "# Time complexity: O(n log2(n))\n",
    "# Space complexity: O(log(n))\n",
    "\n",
    "# Create function of recursion relation\n",
    "def recursion_solution(n) :\n",
    "    if n == 1:\n",
    "        return 1\n",
    "    return 2*recursion_solution(n/2) + n\n",
    "\n",
    "# Print result\n",
    "recursion_solution(8)"
   ]
  },
  {
   "cell_type": "code",
   "execution_count": null,
   "id": "f243c1d5-37e9-4535-80fe-693078ef725e",
   "metadata": {},
   "outputs": [],
   "source": []
  }
 ],
 "metadata": {
  "kernelspec": {
   "display_name": "Python 3 (ipykernel)",
   "language": "python",
   "name": "python3"
  },
  "language_info": {
   "codemirror_mode": {
    "name": "ipython",
    "version": 3
   },
   "file_extension": ".py",
   "mimetype": "text/x-python",
   "name": "python",
   "nbconvert_exporter": "python",
   "pygments_lexer": "ipython3",
   "version": "3.10.8"
  }
 },
 "nbformat": 4,
 "nbformat_minor": 5
}
